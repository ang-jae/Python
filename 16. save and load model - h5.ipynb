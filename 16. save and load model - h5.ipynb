{
 "cells": [
  {
   "cell_type": "markdown",
   "metadata": {},
   "source": [
    "# TensorFlow 2.0"
   ]
  },
  {
   "cell_type": "code",
   "execution_count": 1,
   "metadata": {},
   "outputs": [],
   "source": [
    "import os\n",
    "from glob import glob\n",
    "from datetime import datetime\n",
    "\n",
    "import numpy as np\n",
    "\n",
    "import tensorflow as tf\n",
    "from tensorflow.keras import layers\n",
    "\n",
    "from tensorflow.keras import datasets \n",
    "\n",
    "import matplotlib.pyplot as plt\n",
    "\n",
    "%load_ext tensorboard\n",
    "%matplotlib inline"
   ]
  },
  {
   "cell_type": "markdown",
   "metadata": {},
   "source": [
    "## Hyperparameter Tunning"
   ]
  },
  {
   "cell_type": "code",
   "execution_count": 2,
   "metadata": {},
   "outputs": [],
   "source": [
    "num_epochs = 5\n",
    "batch_size = 32\n",
    "\n",
    "learning_rate = 0.001\n",
    "\n",
    "dropout_rate = 0.5\n",
    "\n",
    "input_shape = (32, 32, 3)\n",
    "num_classes = 10"
   ]
  },
  {
   "cell_type": "markdown",
   "metadata": {},
   "source": [
    "## Build Model"
   ]
  },
  {
   "cell_type": "code",
   "execution_count": 3,
   "metadata": {},
   "outputs": [],
   "source": [
    "inputs = layers.Input(input_shape)\n",
    "\n",
    "net = layers.Conv2D(32, (3, 3), padding='SAME')(inputs)\n",
    "net = layers.Activation('relu')(net)\n",
    "net = layers.Conv2D(32, (3, 3), padding='SAME')(net)\n",
    "net = layers.Activation('relu')(net)\n",
    "net = layers.MaxPooling2D(pool_size=(2, 2))(net)\n",
    "net = layers.Dropout(dropout_rate)(net)\n",
    "\n",
    "net = layers.Conv2D(64, (3, 3), padding='SAME')(net)\n",
    "net = layers.Activation('relu')(net)\n",
    "net = layers.Conv2D(64, (3, 3), padding='SAME')(net)\n",
    "net = layers.Activation('relu')(net)\n",
    "net = layers.MaxPooling2D(pool_size=(2, 2))(net)\n",
    "net = layers.Dropout(dropout_rate)(net)\n",
    "\n",
    "net = layers.Flatten()(net)\n",
    "net = layers.Dense(512)(net)\n",
    "net = layers.Activation('relu')(net)\n",
    "net = layers.Dropout(dropout_rate)(net)\n",
    "net = layers.Dense(num_classes)(net)\n",
    "net = layers.Activation('softmax')(net)\n",
    "\n",
    "model = tf.keras.Model(inputs=inputs, outputs=net, name='Basic_CNN')"
   ]
  },
  {
   "cell_type": "code",
   "execution_count": 4,
   "metadata": {},
   "outputs": [],
   "source": [
    "# Model is the full model w/o custom layers\n",
    "model.compile(optimizer=tf.keras.optimizers.Adam(learning_rate),  # Optimization\n",
    "              loss='sparse_categorical_crossentropy',  # Loss Function \n",
    "              metrics=['accuracy'])  # Metrics / Accuracy"
   ]
  },
  {
   "cell_type": "markdown",
   "metadata": {},
   "source": [
    "# Data Preprocess"
   ]
  },
  {
   "cell_type": "code",
   "execution_count": 5,
   "metadata": {},
   "outputs": [],
   "source": [
    "train_paths = glob('../dataset/cifar/train/*.png')[:100]\n",
    "test_paths = glob('../dataset/cifar/test/*.png')[:100]"
   ]
  },
  {
   "cell_type": "code",
   "execution_count": 6,
   "metadata": {},
   "outputs": [],
   "source": [
    "def get_class_name(path):\n",
    "    return path.split('_')[-1].replace('.png', '')"
   ]
  },
  {
   "cell_type": "code",
   "execution_count": 7,
   "metadata": {},
   "outputs": [],
   "source": [
    "train_labels = [get_class_name(path) for path in train_paths]\n",
    "class_names = np.unique(train_labels)"
   ]
  },
  {
   "cell_type": "code",
   "execution_count": 8,
   "metadata": {},
   "outputs": [],
   "source": [
    "def get_label(path):\n",
    "    fname = tf.strings.split(path, '_')[-1]\n",
    "    lbl_name = tf.strings.regex_replace(fname, '.png', '')\n",
    "    onehot = tf.cast(lbl_name == class_names, tf.uint8)\n",
    "    return tf.argmax(onehot)  # 이번에는 onehot이 아닌 label 번호로"
   ]
  },
  {
   "cell_type": "code",
   "execution_count": 9,
   "metadata": {},
   "outputs": [],
   "source": [
    "def load_image_label(path):\n",
    "    gfile = tf.io.read_file(path)\n",
    "    image = tf.io.decode_image(gfile)\n",
    "    image = tf.cast(image, tf.float32) / 255.  # rescale\n",
    "    \n",
    "    label = get_label(path)\n",
    "    return image, label"
   ]
  },
  {
   "cell_type": "code",
   "execution_count": 10,
   "metadata": {},
   "outputs": [],
   "source": [
    "def image_preprocess(image, label):\n",
    "    image = tf.image.random_flip_up_down(image)\n",
    "    image = tf.image.random_flip_left_right(image)\n",
    "    return image, label"
   ]
  },
  {
   "cell_type": "code",
   "execution_count": 11,
   "metadata": {},
   "outputs": [],
   "source": [
    "AUTOTUNE = tf.data.experimental.AUTOTUNE"
   ]
  },
  {
   "cell_type": "code",
   "execution_count": 12,
   "metadata": {
    "scrolled": false
   },
   "outputs": [],
   "source": [
    "train_dataset = tf.data.Dataset.from_tensor_slices(train_paths)\n",
    "train_dataset = train_dataset.map(load_image_label, num_parallel_calls=AUTOTUNE)\n",
    "train_dataset = train_dataset.map(image_preprocess, num_parallel_calls=AUTOTUNE)\n",
    "train_dataset = train_dataset.batch(batch_size)\n",
    "train_dataset = train_dataset.shuffle(buffer_size=len(train_paths))\n",
    "train_dataset = train_dataset.repeat()"
   ]
  },
  {
   "cell_type": "code",
   "execution_count": 13,
   "metadata": {},
   "outputs": [],
   "source": [
    "test_dataset = tf.data.Dataset.from_tensor_slices(test_paths)\n",
    "test_dataset = test_dataset.map(load_image_label, num_parallel_calls=AUTOTUNE)\n",
    "test_dataset = test_dataset.batch(batch_size)\n",
    "test_dataset = test_dataset.repeat()"
   ]
  },
  {
   "cell_type": "markdown",
   "metadata": {},
   "source": [
    "# Checkpoint"
   ]
  },
  {
   "cell_type": "code",
   "execution_count": 14,
   "metadata": {},
   "outputs": [],
   "source": [
    "save_path = 'ckpt'"
   ]
  },
  {
   "cell_type": "code",
   "execution_count": 15,
   "metadata": {},
   "outputs": [],
   "source": [
    "checkpoint = tf.keras.callbacks.ModelCheckpoint(save_path, monitor='val_accuracy', verbose=1, save_best_only=True, mode='max')"
   ]
  },
  {
   "cell_type": "markdown",
   "metadata": {},
   "source": [
    "## Training"
   ]
  },
  {
   "cell_type": "markdown",
   "metadata": {},
   "source": [
    "http://localhost:6006"
   ]
  },
  {
   "cell_type": "code",
   "execution_count": 16,
   "metadata": {},
   "outputs": [
    {
     "name": "stderr",
     "output_type": "stream",
     "text": [
      "WARNING: Logging before flag parsing goes to stderr.\n",
      "W0920 13:49:33.031279 22920 deprecation.py:323] From C:\\ProgramData\\Anaconda3\\lib\\site-packages\\tensorflow_core\\python\\ops\\math_grad.py:1394: where (from tensorflow.python.ops.array_ops) is deprecated and will be removed in a future version.\n",
      "Instructions for updating:\n",
      "Use tf.where in 2.0, which has the same broadcast rule as np.where\n"
     ]
    },
    {
     "name": "stdout",
     "output_type": "stream",
     "text": [
      "Epoch 1/5\n",
      "2/3 [===================>..........] - ETA: 0s - loss: 2.3638 - accuracy: 0.0278    \n",
      "Epoch 00001: val_accuracy improved from -inf to 0.07292, saving model to ckpt\n"
     ]
    },
    {
     "name": "stderr",
     "output_type": "stream",
     "text": [
      "W0920 13:49:34.531265 22920 deprecation.py:506] From C:\\ProgramData\\Anaconda3\\lib\\site-packages\\tensorflow_core\\python\\ops\\resource_variable_ops.py:1781: calling BaseResourceVariable.__init__ (from tensorflow.python.ops.resource_variable_ops) with constraint is deprecated and will be removed in a future version.\n",
      "Instructions for updating:\n",
      "If using Keras pass *_constraint arguments to layers.\n"
     ]
    },
    {
     "name": "stdout",
     "output_type": "stream",
     "text": [
      "3/3 [==============================] - 2s 661ms/step - loss: 2.3902 - accuracy: 0.0294 - val_loss: 2.3492 - val_accuracy: 0.0729\n",
      "Epoch 2/5\n",
      "2/3 [===================>..........] - ETA: 0s - loss: 2.3568 - accuracy: 0.0938\n",
      "Epoch 00002: val_accuracy improved from 0.07292 to 0.17708, saving model to ckpt\n",
      "3/3 [==============================] - 2s 608ms/step - loss: 2.3123 - accuracy: 0.1562 - val_loss: 2.2900 - val_accuracy: 0.1771\n",
      "Epoch 3/5\n",
      "1/3 [=========>....................] - ETA: 0s - loss: 2.3461 - accuracy: 0.0625\n",
      "Epoch 00003: val_accuracy did not improve from 0.17708\n",
      "3/3 [==============================] - 1s 171ms/step - loss: 2.3539 - accuracy: 0.1471 - val_loss: 2.2858 - val_accuracy: 0.1771\n",
      "Epoch 4/5\n",
      "2/3 [===================>..........] - ETA: 0s - loss: 2.3473 - accuracy: 0.0833\n",
      "Epoch 00004: val_accuracy improved from 0.17708 to 0.19792, saving model to ckpt\n",
      "3/3 [==============================] - 2s 629ms/step - loss: 2.3158 - accuracy: 0.1471 - val_loss: 2.2940 - val_accuracy: 0.1979\n",
      "Epoch 5/5\n",
      "2/3 [===================>..........] - ETA: 0s - loss: 2.2618 - accuracy: 0.1111\n",
      "Epoch 00005: val_accuracy did not improve from 0.19792\n",
      "3/3 [==============================] - 1s 204ms/step - loss: 2.2678 - accuracy: 0.1176 - val_loss: 2.3004 - val_accuracy: 0.0833\n"
     ]
    }
   ],
   "source": [
    "steps_per_epoch = len(train_paths) // batch_size\n",
    "validation_steps = len(test_paths) // batch_size\n",
    "\n",
    "history = model.fit_generator(\n",
    "    train_dataset,\n",
    "    steps_per_epoch=steps_per_epoch,\n",
    "    validation_data=test_dataset,\n",
    "    validation_steps=validation_steps,\n",
    "    epochs=num_epochs, \n",
    "    callbacks=[checkpoint]\n",
    ")"
   ]
  },
  {
   "cell_type": "markdown",
   "metadata": {},
   "source": [
    "# Saving Model"
   ]
  },
  {
   "cell_type": "code",
   "execution_count": 11,
   "metadata": {},
   "outputs": [],
   "source": [
    "save_path = 'my_model.h5'"
   ]
  },
  {
   "cell_type": "code",
   "execution_count": 12,
   "metadata": {},
   "outputs": [],
   "source": [
    "model.save(save_path, include_optimizer=True)"
   ]
  },
  {
   "cell_type": "code",
   "execution_count": 13,
   "metadata": {},
   "outputs": [
    {
     "ename": "UnicodeEncodeError",
     "evalue": "'mbcs' codec can't encode characters in position 0--1: invalid character",
     "output_type": "error",
     "traceback": [
      "\u001b[1;31m---------------------------------------------------------------------------\u001b[0m",
      "\u001b[1;31mUnicodeEncodeError\u001b[0m                        Traceback (most recent call last)",
      "\u001b[1;32m<ipython-input-13-87a591bfcd0a>\u001b[0m in \u001b[0;36m<module>\u001b[1;34m\u001b[0m\n\u001b[1;32m----> 1\u001b[1;33m \u001b[0mmodel\u001b[0m \u001b[1;33m=\u001b[0m \u001b[0mtf\u001b[0m\u001b[1;33m.\u001b[0m\u001b[0mkeras\u001b[0m\u001b[1;33m.\u001b[0m\u001b[0mmodels\u001b[0m\u001b[1;33m.\u001b[0m\u001b[0mload_model\u001b[0m\u001b[1;33m(\u001b[0m\u001b[1;34m'my_model.h5'\u001b[0m\u001b[1;33m)\u001b[0m\u001b[1;33m\u001b[0m\u001b[1;33m\u001b[0m\u001b[0m\n\u001b[0m",
      "\u001b[1;32m~\\Anaconda3\\lib\\site-packages\\tensorflow_core\\python\\keras\\saving\\save.py\u001b[0m in \u001b[0;36mload_model\u001b[1;34m(filepath, custom_objects, compile)\u001b[0m\n\u001b[0;32m    143\u001b[0m   \"\"\"\n\u001b[0;32m    144\u001b[0m   if (h5py is not None and (\n\u001b[1;32m--> 145\u001b[1;33m       isinstance(filepath, h5py.File) or h5py.is_hdf5(filepath))):\n\u001b[0m\u001b[0;32m    146\u001b[0m     \u001b[1;32mreturn\u001b[0m \u001b[0mhdf5_format\u001b[0m\u001b[1;33m.\u001b[0m\u001b[0mload_model_from_hdf5\u001b[0m\u001b[1;33m(\u001b[0m\u001b[0mfilepath\u001b[0m\u001b[1;33m,\u001b[0m \u001b[0mcustom_objects\u001b[0m\u001b[1;33m,\u001b[0m \u001b[0mcompile\u001b[0m\u001b[1;33m)\u001b[0m\u001b[1;33m\u001b[0m\u001b[1;33m\u001b[0m\u001b[0m\n\u001b[0;32m    147\u001b[0m \u001b[1;33m\u001b[0m\u001b[0m\n",
      "\u001b[1;32m~\\Anaconda3\\lib\\site-packages\\h5py\\_hl\\base.py\u001b[0m in \u001b[0;36mis_hdf5\u001b[1;34m(fname)\u001b[0m\n\u001b[0;32m     42\u001b[0m \u001b[1;33m\u001b[0m\u001b[0m\n\u001b[0;32m     43\u001b[0m         \u001b[1;32mif\u001b[0m \u001b[0mos\u001b[0m\u001b[1;33m.\u001b[0m\u001b[0mpath\u001b[0m\u001b[1;33m.\u001b[0m\u001b[0misfile\u001b[0m\u001b[1;33m(\u001b[0m\u001b[0mfname\u001b[0m\u001b[1;33m)\u001b[0m\u001b[1;33m:\u001b[0m\u001b[1;33m\u001b[0m\u001b[1;33m\u001b[0m\u001b[0m\n\u001b[1;32m---> 44\u001b[1;33m             \u001b[1;32mreturn\u001b[0m \u001b[0mh5f\u001b[0m\u001b[1;33m.\u001b[0m\u001b[0mis_hdf5\u001b[0m\u001b[1;33m(\u001b[0m\u001b[0mfilename_encode\u001b[0m\u001b[1;33m(\u001b[0m\u001b[0mfname\u001b[0m\u001b[1;33m)\u001b[0m\u001b[1;33m)\u001b[0m\u001b[1;33m\u001b[0m\u001b[1;33m\u001b[0m\u001b[0m\n\u001b[0m\u001b[0;32m     45\u001b[0m         \u001b[1;32mreturn\u001b[0m \u001b[1;32mFalse\u001b[0m\u001b[1;33m\u001b[0m\u001b[1;33m\u001b[0m\u001b[0m\n\u001b[0;32m     46\u001b[0m \u001b[1;33m\u001b[0m\u001b[0m\n",
      "\u001b[1;32m~\\Anaconda3\\lib\\site-packages\\h5py\\_hl\\compat.py\u001b[0m in \u001b[0;36mfilename_encode\u001b[1;34m(filename)\u001b[0m\n\u001b[0;32m    112\u001b[0m     \u001b[1;32mif\u001b[0m \u001b[0msys\u001b[0m\u001b[1;33m.\u001b[0m\u001b[0mplatform\u001b[0m \u001b[1;33m==\u001b[0m \u001b[1;34m\"win32\"\u001b[0m\u001b[1;33m:\u001b[0m\u001b[1;33m\u001b[0m\u001b[1;33m\u001b[0m\u001b[0m\n\u001b[0;32m    113\u001b[0m         \u001b[1;32mif\u001b[0m \u001b[0misinstance\u001b[0m\u001b[1;33m(\u001b[0m\u001b[0mfilename\u001b[0m\u001b[1;33m,\u001b[0m \u001b[0msix\u001b[0m\u001b[1;33m.\u001b[0m\u001b[0mtext_type\u001b[0m\u001b[1;33m)\u001b[0m\u001b[1;33m:\u001b[0m\u001b[1;33m\u001b[0m\u001b[1;33m\u001b[0m\u001b[0m\n\u001b[1;32m--> 114\u001b[1;33m             \u001b[1;32mreturn\u001b[0m \u001b[0mfilename\u001b[0m\u001b[1;33m.\u001b[0m\u001b[0mencode\u001b[0m\u001b[1;33m(\u001b[0m\u001b[0mWINDOWS_ENCODING\u001b[0m\u001b[1;33m,\u001b[0m \u001b[1;34m\"strict\"\u001b[0m\u001b[1;33m)\u001b[0m\u001b[1;33m\u001b[0m\u001b[1;33m\u001b[0m\u001b[0m\n\u001b[0m\u001b[0;32m    115\u001b[0m         \u001b[1;32mreturn\u001b[0m \u001b[0mfilename\u001b[0m\u001b[1;33m\u001b[0m\u001b[1;33m\u001b[0m\u001b[0m\n\u001b[0;32m    116\u001b[0m     \u001b[1;32mreturn\u001b[0m \u001b[0mfsencode\u001b[0m\u001b[1;33m(\u001b[0m\u001b[0mfilename\u001b[0m\u001b[1;33m)\u001b[0m\u001b[1;33m\u001b[0m\u001b[1;33m\u001b[0m\u001b[0m\n",
      "\u001b[1;31mUnicodeEncodeError\u001b[0m: 'mbcs' codec can't encode characters in position 0--1: invalid character"
     ]
    }
   ],
   "source": [
    "model = tf.keras.models.load_model('my_model.h5')"
   ]
  },
  {
   "cell_type": "code",
   "execution_count": null,
   "metadata": {},
   "outputs": [],
   "source": []
  },
  {
   "cell_type": "markdown",
   "metadata": {},
   "source": [
    "# Saving Model - 2"
   ]
  },
  {
   "cell_type": "code",
   "execution_count": 14,
   "metadata": {},
   "outputs": [],
   "source": [
    "# Save the weights\n",
    "model.save_weights('model_weights.h5')\n",
    "\n",
    "# Save the model architecture\n",
    "with open('model_architecture.json', 'w') as f:\n",
    "    f.write(model.to_json())"
   ]
  },
  {
   "cell_type": "code",
   "execution_count": 15,
   "metadata": {},
   "outputs": [],
   "source": [
    "from tensorflow.keras.models import model_from_json\n",
    "\n",
    "# Model reconstruction from JSON file\n",
    "with open('model_architecture.json', 'r') as f:\n",
    "    model = model_from_json(f.read())\n",
    "\n",
    "# Load weights into the new model\n",
    "model.load_weights('model_weights.h5')"
   ]
  },
  {
   "cell_type": "markdown",
   "metadata": {},
   "source": [
    "# model.h5 들여다보기"
   ]
  },
  {
   "cell_type": "code",
   "execution_count": 16,
   "metadata": {},
   "outputs": [],
   "source": [
    "import h5py\n",
    "\n",
    "model_file = h5py.File('my_model.h5','r+')    "
   ]
  },
  {
   "cell_type": "code",
   "execution_count": 17,
   "metadata": {},
   "outputs": [
    {
     "data": {
      "text/plain": [
       "<KeysViewHDF5 ['model_weights']>"
      ]
     },
     "execution_count": 17,
     "metadata": {},
     "output_type": "execute_result"
    }
   ],
   "source": [
    "model_file.keys()"
   ]
  },
  {
   "cell_type": "code",
   "execution_count": 18,
   "metadata": {},
   "outputs": [
    {
     "data": {
      "text/plain": [
       "<KeysViewHDF5 ['activation', 'activation_1', 'activation_2', 'activation_3', 'activation_4', 'activation_5', 'conv2d', 'conv2d_1', 'conv2d_2', 'conv2d_3', 'dense', 'dense_1', 'dropout', 'dropout_1', 'dropout_2', 'flatten', 'input_1', 'max_pooling2d', 'max_pooling2d_1']>"
      ]
     },
     "execution_count": 18,
     "metadata": {},
     "output_type": "execute_result"
    }
   ],
   "source": [
    "model_file['model_weights'].keys()"
   ]
  },
  {
   "cell_type": "code",
   "execution_count": 19,
   "metadata": {},
   "outputs": [
    {
     "data": {
      "text/plain": [
       "<KeysViewHDF5 ['bias:0', 'kernel:0']>"
      ]
     },
     "execution_count": 19,
     "metadata": {},
     "output_type": "execute_result"
    }
   ],
   "source": [
    "model_file['model_weights']['conv2d']['conv2d'].keys()"
   ]
  },
  {
   "cell_type": "code",
   "execution_count": 20,
   "metadata": {},
   "outputs": [
    {
     "data": {
      "text/plain": [
       "<HDF5 dataset \"kernel:0\": shape (3, 3, 3, 32), type \"<f4\">"
      ]
     },
     "execution_count": 20,
     "metadata": {},
     "output_type": "execute_result"
    }
   ],
   "source": [
    "model_file['model_weights']['conv2d']['conv2d']['kernel:0']"
   ]
  },
  {
   "cell_type": "code",
   "execution_count": 21,
   "metadata": {},
   "outputs": [
    {
     "data": {
      "text/plain": [
       "array([[[[ 0.09818335, -0.040579  ,  0.13305335,  0.02204266,\n",
       "          -0.10216027,  0.02127637,  0.09995307, -0.05189637,\n",
       "          -0.02596031, -0.1208975 ,  0.07827646, -0.11074499,\n",
       "          -0.12479363,  0.13374685, -0.12778614,  0.13258083,\n",
       "           0.04740551, -0.04140083, -0.04770781, -0.02668962,\n",
       "           0.08223413, -0.12994385, -0.05800721,  0.06918089,\n",
       "          -0.03416525, -0.02452487, -0.05135973, -0.09845071,\n",
       "           0.08185707, -0.05858433, -0.10869929,  0.04106784],\n",
       "         [ 0.04933999, -0.01399218,  0.11830284, -0.08382471,\n",
       "           0.12142013,  0.09820217,  0.04161103,  0.06070307,\n",
       "           0.05761907, -0.05570982, -0.13591154,  0.0451691 ,\n",
       "          -0.02922563,  0.03949469,  0.01660302, -0.12025861,\n",
       "           0.03508267, -0.12586522, -0.10682852,  0.08048049,\n",
       "          -0.00671434,  0.02743231,  0.04287182,  0.05602297,\n",
       "           0.09651412, -0.11455081, -0.03970913,  0.08595033,\n",
       "           0.05848742, -0.05228804,  0.11407588, -0.12296423],\n",
       "         [ 0.04876037, -0.04698114, -0.01025629,  0.05632758,\n",
       "          -0.12921852, -0.08836131,  0.00962748, -0.05661898,\n",
       "          -0.12309163, -0.03268883,  0.02498938, -0.09753819,\n",
       "          -0.0130889 , -0.09913233, -0.13607939, -0.04281275,\n",
       "           0.04168227, -0.0193893 ,  0.09922269,  0.08982687,\n",
       "          -0.12630291, -0.1339838 , -0.04357443, -0.01097816,\n",
       "          -0.13252886,  0.03997684,  0.07069063, -0.02345981,\n",
       "          -0.05639845,  0.0485612 ,  0.05745375,  0.01757151]],\n",
       "\n",
       "        [[-0.11268724,  0.07098703, -0.04610988,  0.06715085,\n",
       "           0.07589813, -0.07088161, -0.05181994, -0.0797477 ,\n",
       "           0.05515146, -0.11853546, -0.11607015,  0.08973972,\n",
       "           0.08357112,  0.10240228, -0.03548454,  0.01611352,\n",
       "           0.08922401, -0.10744964, -0.02602547, -0.10147637,\n",
       "          -0.09010401,  0.00728706, -0.12063492, -0.07168274,\n",
       "           0.00302351,  0.10314982, -0.0066482 , -0.00829326,\n",
       "          -0.09381124,  0.01420487, -0.13623887, -0.0779784 ],\n",
       "         [-0.03517483, -0.07351051, -0.09017312, -0.05950063,\n",
       "           0.00584848, -0.11525606, -0.00788237,  0.0137137 ,\n",
       "           0.11262937,  0.0845605 , -0.04530677,  0.00364816,\n",
       "          -0.10353839,  0.03128235, -0.04294888, -0.11563874,\n",
       "          -0.09663182, -0.06558214,  0.01403278, -0.03540704,\n",
       "          -0.08965523, -0.04906926, -0.03217285, -0.11171174,\n",
       "          -0.10124739, -0.12448272,  0.02069958,  0.03835949,\n",
       "          -0.03694183, -0.11477729,  0.10770215,  0.03185746],\n",
       "         [-0.13772555,  0.1040857 , -0.04458863,  0.1002304 ,\n",
       "           0.08915336, -0.12698096, -0.09753496, -0.02295083,\n",
       "           0.07439956,  0.03400888, -0.0071428 ,  0.09241311,\n",
       "          -0.11527616, -0.11626538,  0.0824997 ,  0.07112859,\n",
       "           0.09909377, -0.09620117,  0.06876734, -0.03768913,\n",
       "           0.1075518 , -0.01392318,  0.01050462,  0.12006645,\n",
       "          -0.03020708, -0.00800128, -0.02004766, -0.09836933,\n",
       "          -0.05154189, -0.07377625, -0.09738528,  0.0053557 ]],\n",
       "\n",
       "        [[ 0.10037975, -0.13451615, -0.1273598 ,  0.07327962,\n",
       "          -0.10957545, -0.00299379,  0.10717626,  0.1041397 ,\n",
       "           0.00695725,  0.04557821, -0.08394146, -0.08586699,\n",
       "           0.03249066, -0.11970305,  0.03067213,  0.1153331 ,\n",
       "          -0.02469614, -0.06782477, -0.10245937,  0.01851387,\n",
       "           0.0666305 , -0.09273483, -0.09938215, -0.11068372,\n",
       "          -0.00035879, -0.07565568,  0.02402847,  0.06668557,\n",
       "          -0.01913271, -0.02307561, -0.00293314,  0.12183885],\n",
       "         [-0.08605289,  0.00665367, -0.13779047, -0.13796839,\n",
       "          -0.0712018 ,  0.10839334, -0.03662742, -0.08573017,\n",
       "          -0.0160365 ,  0.01782843, -0.01730955,  0.13611265,\n",
       "           0.01012266,  0.06613998, -0.11830848,  0.09275065,\n",
       "           0.13031222,  0.11438872,  0.0774768 ,  0.05852552,\n",
       "           0.03796794, -0.03714146,  0.11750273, -0.01527622,\n",
       "           0.09512086, -0.04205788,  0.07217921, -0.07476869,\n",
       "           0.04385722,  0.01214312, -0.05074289,  0.11940388],\n",
       "         [ 0.03106959,  0.0151349 , -0.11269368,  0.12620924,\n",
       "          -0.06429217,  0.00233257,  0.05543767, -0.11928499,\n",
       "           0.04303338,  0.0668861 , -0.11978416,  0.13543932,\n",
       "          -0.00633968,  0.00850266,  0.12981771,  0.1134768 ,\n",
       "           0.05963545,  0.13067056, -0.02687118,  0.04474424,\n",
       "           0.13537385, -0.05680197,  0.10371526,  0.10246661,\n",
       "          -0.02091727, -0.10359792, -0.05928928,  0.02500933,\n",
       "          -0.13708654,  0.05202635,  0.1282811 ,  0.05279751]]],\n",
       "\n",
       "\n",
       "       [[[ 0.0548204 ,  0.01660867, -0.03080131,  0.04263431,\n",
       "          -0.11801486,  0.13757248, -0.12972213, -0.10511938,\n",
       "          -0.07200176,  0.0074518 , -0.01022895,  0.09008871,\n",
       "          -0.13026871,  0.08249095, -0.04998703, -0.02492157,\n",
       "           0.11750101, -0.0482925 , -0.00251749,  0.07938598,\n",
       "           0.03381036,  0.04590909,  0.07082278, -0.05383306,\n",
       "           0.04034267,  0.05513823, -0.0881656 ,  0.13032036,\n",
       "          -0.03217516,  0.06341071, -0.03854548, -0.09587827],\n",
       "         [-0.09332731,  0.05664468,  0.00104839,  0.07091908,\n",
       "           0.03337717, -0.00342843, -0.09997062, -0.06874079,\n",
       "          -0.05409659,  0.13639097, -0.11008255, -0.00142801,\n",
       "           0.06434117,  0.09382688,  0.0328529 ,  0.0566071 ,\n",
       "           0.02597989, -0.04445665,  0.10152972, -0.0509448 ,\n",
       "          -0.09917781,  0.01700489, -0.09815989,  0.02029413,\n",
       "          -0.01955041,  0.12952428,  0.03124991,  0.06521265,\n",
       "           0.12456192,  0.09781601, -0.07869102,  0.0201392 ],\n",
       "         [-0.12477919,  0.05230953, -0.13701873, -0.12071958,\n",
       "          -0.13686216,  0.12984358,  0.08565353,  0.12329896,\n",
       "           0.00647029, -0.0232298 ,  0.085428  ,  0.03782848,\n",
       "           0.10262874, -0.04284713,  0.02698365, -0.10869709,\n",
       "           0.08369467, -0.04767514, -0.05626101,  0.13506149,\n",
       "          -0.11284877, -0.08376321,  0.06813899,  0.09235741,\n",
       "          -0.05577813,  0.05917437, -0.03969508,  0.06607671,\n",
       "          -0.09366804, -0.09241983, -0.09976486,  0.10289741]],\n",
       "\n",
       "        [[-0.00180572,  0.10893451, -0.0178152 , -0.13341106,\n",
       "          -0.03425211,  0.09939988, -0.00895296,  0.06071627,\n",
       "           0.12075217, -0.12944794,  0.13293232,  0.06745091,\n",
       "           0.02921069,  0.12532227,  0.00090007,  0.07201324,\n",
       "           0.00605467,  0.02832763, -0.12396483,  0.03820162,\n",
       "           0.06400442,  0.07375377,  0.00782685, -0.08957237,\n",
       "          -0.1033355 , -0.1330659 , -0.0952386 ,  0.04563543,\n",
       "          -0.00800671, -0.1138825 ,  0.01499966, -0.13441217],\n",
       "         [-0.11765999, -0.08324075,  0.04025555,  0.0938808 ,\n",
       "           0.04157661,  0.05171478, -0.04076241, -0.03898723,\n",
       "           0.0339389 ,  0.05967447,  0.0468916 ,  0.11508982,\n",
       "          -0.10952719,  0.04412378,  0.06088533, -0.05233578,\n",
       "           0.00522915, -0.0805722 ,  0.07523592, -0.12362709,\n",
       "          -0.05981585, -0.01493079, -0.05157868,  0.03706907,\n",
       "           0.08505493,  0.01879981, -0.1069583 ,  0.12051596,\n",
       "           0.05365346, -0.11557809,  0.05652863,  0.10485017],\n",
       "         [-0.05966364, -0.00210075, -0.1256491 ,  0.04219227,\n",
       "          -0.08035564, -0.05195274,  0.10859258,  0.13593332,\n",
       "           0.03952694, -0.13409615, -0.07669547, -0.1017582 ,\n",
       "          -0.12201864,  0.02406605,  0.09345733,  0.08378655,\n",
       "          -0.13563238,  0.12750022,  0.01864509, -0.07438417,\n",
       "          -0.07409224, -0.08645852, -0.02234311,  0.0196327 ,\n",
       "           0.12832074,  0.04154874, -0.08615036, -0.01147144,\n",
       "           0.00269534, -0.00952232,  0.07122833,  0.13542663]],\n",
       "\n",
       "        [[-0.02443122,  0.09706518,  0.03133766,  0.00047581,\n",
       "           0.13304423, -0.02651321, -0.0255541 , -0.05739399,\n",
       "           0.1273536 , -0.00400591,  0.11977874,  0.03297547,\n",
       "          -0.11786838,  0.05485088,  0.05197732,  0.11789991,\n",
       "           0.06999327, -0.10871111, -0.09321929, -0.08738574,\n",
       "          -0.03594398, -0.08526456, -0.12599884,  0.10489368,\n",
       "          -0.10919727,  0.10782379,  0.05871446, -0.01673207,\n",
       "           0.12787376, -0.0676052 ,  0.06810492, -0.07108756],\n",
       "         [ 0.07070136,  0.10954811, -0.04216196,  0.08297764,\n",
       "           0.07306466,  0.09071013, -0.05802063,  0.06550294,\n",
       "          -0.03676207,  0.03794806, -0.01795518,  0.05541869,\n",
       "           0.01341663,  0.06475729,  0.04881394,  0.08392994,\n",
       "          -0.07228786,  0.02693465,  0.01165767,  0.062434  ,\n",
       "           0.07918712, -0.04617862,  0.01280598,  0.13588752,\n",
       "           0.05790991, -0.09073704, -0.1247681 , -0.10816996,\n",
       "          -0.13465089,  0.063932  ,  0.11587439,  0.08840905],\n",
       "         [-0.08972828, -0.05425506,  0.10948078,  0.08792378,\n",
       "           0.05005585,  0.10430235,  0.08330646, -0.12124616,\n",
       "          -0.01891834,  0.0011722 , -0.02984941,  0.01973793,\n",
       "           0.02427031, -0.090451  , -0.11370111, -0.06344527,\n",
       "           0.10205235,  0.08580397, -0.11173842, -0.04296566,\n",
       "          -0.04101858,  0.02511506,  0.08032672, -0.05363556,\n",
       "           0.05201852, -0.07555707,  0.00109801,  0.10487299,\n",
       "           0.11904378, -0.06708883, -0.12463382, -0.00149754]]],\n",
       "\n",
       "\n",
       "       [[[ 0.06627597,  0.0902794 ,  0.00913325,  0.08661667,\n",
       "           0.12696786,  0.11491413,  0.09317467, -0.04867189,\n",
       "           0.08931862, -0.08636461, -0.04151215, -0.05263953,\n",
       "          -0.11686945,  0.13120358, -0.12235585, -0.07381511,\n",
       "           0.0482623 ,  0.02916417,  0.11034359,  0.04217318,\n",
       "           0.04066703,  0.01628858, -0.09651721,  0.1112517 ,\n",
       "          -0.05549393,  0.07176405, -0.00032583, -0.06139398,\n",
       "          -0.05661079,  0.04993445,  0.04265247,  0.0354609 ],\n",
       "         [ 0.137892  ,  0.11092712, -0.0451972 , -0.02687477,\n",
       "           0.11980398,  0.09769949,  0.08532265, -0.10322836,\n",
       "          -0.01670802,  0.03048977,  0.06557424, -0.06082189,\n",
       "           0.12133901, -0.06793899, -0.1156209 ,  0.08919729,\n",
       "          -0.13567457, -0.03833409,  0.11493076,  0.00373659,\n",
       "           0.02717911, -0.0463952 , -0.03263684, -0.06667728,\n",
       "           0.07255554, -0.01807564,  0.10874026, -0.08320827,\n",
       "           0.00197703,  0.03674042, -0.06660996, -0.1150943 ],\n",
       "         [-0.12258071, -0.08586922,  0.02632977,  0.00163998,\n",
       "           0.13745077,  0.03788044, -0.0296471 ,  0.05166683,\n",
       "          -0.02864081, -0.11688284,  0.02050488, -0.00640763,\n",
       "          -0.06160937, -0.0321617 ,  0.02554367,  0.08272716,\n",
       "           0.0213251 , -0.02986448, -0.01312161,  0.04665604,\n",
       "          -0.11671697,  0.03260693,  0.00617799,  0.08465688,\n",
       "           0.05184761, -0.0540984 , -0.09301943, -0.06737506,\n",
       "          -0.13770166,  0.05953474,  0.09797332,  0.13686378]],\n",
       "\n",
       "        [[-0.11297486, -0.01121464, -0.13173163,  0.07717845,\n",
       "           0.05721153, -0.01727079, -0.09085731,  0.05178483,\n",
       "          -0.02895025, -0.1115892 , -0.01469325,  0.13573606,\n",
       "          -0.00418729,  0.08216812, -0.02473263, -0.12001081,\n",
       "           0.08881497, -0.06948282,  0.11294432,  0.03494214,\n",
       "           0.06754827,  0.09679894,  0.01508084, -0.06980914,\n",
       "          -0.0510086 ,  0.13014187,  0.02443066, -0.00194301,\n",
       "           0.13627936, -0.05720314, -0.10820056,  0.08670382],\n",
       "         [ 0.06265248, -0.04101963, -0.01109549,  0.00294943,\n",
       "           0.02259299, -0.03085113, -0.01484267,  0.08006263,\n",
       "          -0.0408787 , -0.13353534,  0.02497879,  0.03954799,\n",
       "           0.05008693,  0.07364772,  0.02566032,  0.04155311,\n",
       "          -0.1005991 ,  0.10902172,  0.01603778,  0.02883446,\n",
       "           0.06785439, -0.02667616, -0.0633404 ,  0.02948238,\n",
       "           0.00032809,  0.03795539, -0.08924471,  0.13520394,\n",
       "          -0.10647476, -0.11265219,  0.03945856,  0.07989426],\n",
       "         [-0.08925013,  0.13789202, -0.05317516,  0.00591055,\n",
       "          -0.06502329,  0.11075306, -0.0300728 ,  0.09831059,\n",
       "           0.09148763,  0.00795518, -0.07754491, -0.05574493,\n",
       "           0.08387838, -0.03901681, -0.12872906,  0.00298059,\n",
       "          -0.04865801,  0.03101058,  0.06551485,  0.08283059,\n",
       "           0.01101777, -0.06056086, -0.045264  , -0.13441914,\n",
       "          -0.05322794, -0.09422714,  0.01773609,  0.06776452,\n",
       "          -0.11161569, -0.10406484, -0.04055136,  0.11163385]],\n",
       "\n",
       "        [[ 0.09305151,  0.11029972,  0.12024046,  0.06069149,\n",
       "           0.04335788,  0.11786522,  0.0115719 , -0.03494252,\n",
       "           0.0535223 ,  0.06710258,  0.03811942,  0.00998008,\n",
       "          -0.08713047, -0.04189612,  0.08419743,  0.10289994,\n",
       "           0.04661171,  0.12983401, -0.05296911, -0.07310653,\n",
       "           0.0494159 , -0.04135677,  0.12393232, -0.13325624,\n",
       "           0.07293293,  0.13732947, -0.07112365, -0.05467108,\n",
       "          -0.1278324 ,  0.00142659,  0.11814912, -0.13138425],\n",
       "         [-0.11583999, -0.10973997, -0.08485974,  0.13779001,\n",
       "          -0.12461312, -0.10926243, -0.02992496, -0.04960846,\n",
       "          -0.11357853, -0.11114837, -0.06923169, -0.00506492,\n",
       "          -0.1075092 , -0.0250247 ,  0.09040043,  0.0154289 ,\n",
       "           0.07139216,  0.08290298,  0.10790753,  0.01474923,\n",
       "          -0.13769962, -0.11270316, -0.05468082,  0.12547858,\n",
       "           0.11313076,  0.08815052, -0.0548257 , -0.09330882,\n",
       "           0.07091379,  0.13006426,  0.09375933,  0.10987045],\n",
       "         [ 0.09677383, -0.00927882, -0.02773704,  0.10073818,\n",
       "          -0.07554311,  0.09847459,  0.05063973,  0.01629721,\n",
       "           0.00726905,  0.10768491,  0.05506445,  0.12338482,\n",
       "           0.06885117, -0.00966735,  0.0026805 ,  0.12215461,\n",
       "           0.07112072,  0.12762661,  0.09136276,  0.02383538,\n",
       "           0.08447038, -0.11726608, -0.11401057, -0.09206522,\n",
       "          -0.12890737,  0.10841276, -0.00220411, -0.11859146,\n",
       "          -0.03752507,  0.10835373,  0.00418261,  0.08499862]]]],\n",
       "      dtype=float32)"
      ]
     },
     "execution_count": 21,
     "metadata": {},
     "output_type": "execute_result"
    }
   ],
   "source": [
    "np.array(model_file['model_weights']['conv2d']['conv2d']['kernel:0'])"
   ]
  },
  {
   "cell_type": "code",
   "execution_count": null,
   "metadata": {},
   "outputs": [],
   "source": []
  },
  {
   "cell_type": "code",
   "execution_count": null,
   "metadata": {},
   "outputs": [],
   "source": []
  }
 ],
 "metadata": {
  "kernelspec": {
   "display_name": "Python 3",
   "language": "python",
   "name": "python3"
  },
  "language_info": {
   "codemirror_mode": {
    "name": "ipython",
    "version": 3
   },
   "file_extension": ".py",
   "mimetype": "text/x-python",
   "name": "python",
   "nbconvert_exporter": "python",
   "pygments_lexer": "ipython3",
   "version": "3.7.4"
  }
 },
 "nbformat": 4,
 "nbformat_minor": 2
}
