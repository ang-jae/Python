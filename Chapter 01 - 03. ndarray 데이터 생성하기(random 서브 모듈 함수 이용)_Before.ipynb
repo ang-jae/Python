{
 "cells": [
  {
   "cell_type": "markdown",
   "metadata": {},
   "source": [
    "### 학습목표\n",
    " - random 서브모듈 함수를 통해 ndarray 생성하기"
   ]
  },
  {
   "cell_type": "code",
   "execution_count": 1,
   "metadata": {},
   "outputs": [],
   "source": [
    "import numpy as np"
   ]
  },
  {
   "cell_type": "markdown",
   "metadata": {},
   "source": [
    "#### random 서브모듈"
   ]
  },
  {
   "cell_type": "markdown",
   "metadata": {},
   "source": [
    "#### rand 함수\n",
    " - 0, 1사이의 분포로 랜덤한 ndarray 생성"
   ]
  },
  {
   "cell_type": "code",
   "execution_count": 7,
   "metadata": {},
   "outputs": [
    {
     "data": {
      "text/plain": [
       "array([[[0.68537208, 0.90077887, 0.83523144],\n",
       "        [0.02973025, 0.19237635, 0.8044267 ],\n",
       "        [0.53318641, 0.13351709, 0.14553189],\n",
       "        [0.96036275, 0.18440558, 0.86308692],\n",
       "        [0.53193762, 0.5161577 , 0.35538892]],\n",
       "\n",
       "       [[0.36801125, 0.36174209, 0.6059647 ],\n",
       "        [0.17851284, 0.07543905, 0.42734888],\n",
       "        [0.85615561, 0.02598177, 0.2064015 ],\n",
       "        [0.33273994, 0.47408756, 0.40610472],\n",
       "        [0.74801794, 0.73943216, 0.99557685]],\n",
       "\n",
       "       [[0.38601723, 0.22288065, 0.09542868],\n",
       "        [0.25132318, 0.56690012, 0.94659225],\n",
       "        [0.9152552 , 0.65483615, 0.38914586],\n",
       "        [0.10707276, 0.41035571, 0.02104336],\n",
       "        [0.34240564, 0.11759002, 0.2140861 ]],\n",
       "\n",
       "       [[0.15109985, 0.75055504, 0.51521585],\n",
       "        [0.95999935, 0.01330679, 0.43117973],\n",
       "        [0.96843902, 0.65052464, 0.83926949],\n",
       "        [0.11452605, 0.30525423, 0.15004178],\n",
       "        [0.15778355, 0.97389989, 0.31318482]]])"
      ]
     },
     "execution_count": 7,
     "metadata": {},
     "output_type": "execute_result"
    }
   ],
   "source": [
    "np.random.rand(4, 5, 3)"
   ]
  },
  {
   "cell_type": "markdown",
   "metadata": {},
   "source": [
    "#### randn함수\n",
    " - n: normal distribution(정규분포)\n",
    " - 정규분포로 샘플링된 랜덤 ndarray 생성"
   ]
  },
  {
   "cell_type": "code",
   "execution_count": 9,
   "metadata": {
    "scrolled": true
   },
   "outputs": [
    {
     "data": {
      "text/plain": [
       "array([[[ 1.29701876, -0.56257362],\n",
       "        [ 2.4583449 ,  0.02022395],\n",
       "        [ 2.06681065,  0.17679377],\n",
       "        [ 0.78193939, -0.50689108]],\n",
       "\n",
       "       [[ 1.55046881,  0.2161295 ],\n",
       "        [-0.21469806, -0.99540906],\n",
       "        [ 0.10720286,  0.18518082],\n",
       "        [ 0.28612183, -1.04592511]],\n",
       "\n",
       "       [[-2.30317309, -0.17283694],\n",
       "        [-1.27112809,  0.22402832],\n",
       "        [ 0.55346996, -0.66185739],\n",
       "        [ 0.84448126, -0.172756  ]]])"
      ]
     },
     "execution_count": 9,
     "metadata": {},
     "output_type": "execute_result"
    }
   ],
   "source": [
    "np.random.randn(3, 4, 2)"
   ]
  },
  {
   "cell_type": "markdown",
   "metadata": {},
   "source": [
    "#### randint 함수\n",
    " - 특정 정수 사이에서 랜덤하게 샘플링"
   ]
  },
  {
   "cell_type": "code",
   "execution_count": 11,
   "metadata": {},
   "outputs": [
    {
     "data": {
      "text/plain": [
       "array([[[87, 95],\n",
       "        [70, 64],\n",
       "        [91, 91],\n",
       "        [70, 84],\n",
       "        [37, 81]],\n",
       "\n",
       "       [[35, 88],\n",
       "        [15, 74],\n",
       "        [60,  5],\n",
       "        [ 4, 19],\n",
       "        [ 8, 88]],\n",
       "\n",
       "       [[52, 19],\n",
       "        [80, 51],\n",
       "        [36, 19],\n",
       "        [44, 75],\n",
       "        [37, 44]]])"
      ]
     },
     "execution_count": 11,
     "metadata": {},
     "output_type": "execute_result"
    }
   ],
   "source": [
    "np.random.randint(1, 100, size=(3, 5, 2))"
   ]
  },
  {
   "cell_type": "markdown",
   "metadata": {},
   "source": [
    "#### seed 함수\n",
    " - 랜덤한 값을 동일하게 다시 생성하고자 할때 사용"
   ]
  },
  {
   "cell_type": "code",
   "execution_count": 24,
   "metadata": {},
   "outputs": [],
   "source": [
    "np.random.seed(100)"
   ]
  },
  {
   "cell_type": "code",
   "execution_count": 25,
   "metadata": {
    "scrolled": true
   },
   "outputs": [
    {
     "data": {
      "text/plain": [
       "array([[-1.74976547,  0.3426804 ,  1.1530358 , -0.25243604],\n",
       "       [ 0.98132079,  0.51421884,  0.22117967, -1.07004333],\n",
       "       [-0.18949583,  0.25500144, -0.45802699,  0.43516349]])"
      ]
     },
     "execution_count": 25,
     "metadata": {},
     "output_type": "execute_result"
    }
   ],
   "source": [
    "np.random.randn(3, 4)"
   ]
  },
  {
   "cell_type": "markdown",
   "metadata": {},
   "source": [
    "#### choice\n",
    " - 주어진 1차원 ndarray로 부터 랜덤으로 샘플링\n",
    " - 정수가 주어진 경우, np.arange(해당숫자)로 간주"
   ]
  },
  {
   "cell_type": "code",
   "execution_count": 26,
   "metadata": {},
   "outputs": [
    {
     "data": {
      "text/plain": [
       "array([[83,  4, 91, 59],\n",
       "       [67,  7, 49, 47],\n",
       "       [65, 61, 14, 55]])"
      ]
     },
     "execution_count": 26,
     "metadata": {},
     "output_type": "execute_result"
    }
   ],
   "source": [
    "np.random.choice(100, (3, 4))"
   ]
  },
  {
   "cell_type": "code",
   "execution_count": 30,
   "metadata": {},
   "outputs": [
    {
     "data": {
      "text/plain": [
       "array([[1. , 2.6],\n",
       "       [4.9, 3. ]])"
      ]
     },
     "execution_count": 30,
     "metadata": {},
     "output_type": "execute_result"
    }
   ],
   "source": [
    "x = np.array([1, 2, 3, 1.5, 2.6, 4.9])\n",
    "np.random.choice(x, size=(2, 2), replace=False)"
   ]
  },
  {
   "cell_type": "markdown",
   "metadata": {},
   "source": [
    "#### 확률분포에 따른 ndarray 생성\n",
    " - uniform\n",
    " - normal 등등"
   ]
  },
  {
   "cell_type": "code",
   "execution_count": 31,
   "metadata": {},
   "outputs": [
    {
     "data": {
      "text/plain": [
       "array([[2.20760908, 1.21029537, 1.76388689, 1.07295211, 2.78082313],\n",
       "       [2.96184171, 1.11988398, 2.78109189, 2.153803  , 2.48495938],\n",
       "       [2.26036787, 2.16368438, 1.04087826, 1.42005316, 2.08936976],\n",
       "       [2.53823034, 1.50139046, 1.57179138, 2.70479018, 2.95001299]])"
      ]
     },
     "execution_count": 31,
     "metadata": {},
     "output_type": "execute_result"
    }
   ],
   "source": [
    "np.random.uniform(1.0, 3.0, size=(4, 5))"
   ]
  },
  {
   "cell_type": "code",
   "execution_count": 32,
   "metadata": {},
   "outputs": [
    {
     "data": {
      "text/plain": [
       "array([[-0.30609783,  0.83850061, -1.69084816,  1.15117366],\n",
       "       [-1.02933685, -0.51099219, -2.36027053,  0.10359513],\n",
       "       [ 1.73881773,  1.24187584,  0.13241276,  0.57779396]])"
      ]
     },
     "execution_count": 32,
     "metadata": {},
     "output_type": "execute_result"
    }
   ],
   "source": [
    "np.random.normal(size = (3, 4)) # 정규분포"
   ]
  },
  {
   "cell_type": "code",
   "execution_count": null,
   "metadata": {},
   "outputs": [],
   "source": []
  }
 ],
 "metadata": {
  "kernelspec": {
   "display_name": "Python 3",
   "language": "python",
   "name": "python3"
  },
  "language_info": {
   "codemirror_mode": {
    "name": "ipython",
    "version": 3
   },
   "file_extension": ".py",
   "mimetype": "text/x-python",
   "name": "python",
   "nbconvert_exporter": "python",
   "pygments_lexer": "ipython3",
   "version": "3.7.4"
  }
 },
 "nbformat": 4,
 "nbformat_minor": 2
}
